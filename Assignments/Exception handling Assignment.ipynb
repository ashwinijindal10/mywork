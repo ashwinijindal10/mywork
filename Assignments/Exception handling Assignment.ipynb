{
 "cells": [
  {
   "cell_type": "markdown",
   "metadata": {},
   "source": [
    "1. Write a function to compute 5/0 and use try/except to catch the exceptions. \n"
   ]
  },
  {
   "cell_type": "code",
   "execution_count": 6,
   "metadata": {},
   "outputs": [
    {
     "name": "stdout",
     "output_type": "stream",
     "text": [
      "divide by zero exeption !!\n"
     ]
    }
   ],
   "source": [
    "def compute_val():\n",
    "    try :    \n",
    "        val = 5/0\n",
    "    except :\n",
    "        print('divide by zero exeption !!')\n",
    "        \n",
    "\n",
    "compute_val()"
   ]
  },
  {
   "cell_type": "markdown",
   "metadata": {},
   "source": [
    "2. Implement a Python program to generate all sentences where subject is in  [\"Americans\", \"Indians\"] and verb is in [\"Play\", \"watch\"] and the object is in  [\"Baseball\",\"cricket\"]. \n",
    "Hint: Subject,Verb and Object should be declared in the program as shown below. \n",
    "subjects=[\"Americans \",\"Indians\"] \n",
    "verbs=[\"play\",\"watch\"] \n",
    "objects=[\"Baseball\",\"Cricket\"] \n",
    "Output should come as below: \n",
    "Americans play Baseball. \n",
    "Americans play Cricket. \n",
    "Americans watch Baseball. \n",
    "Americans watch Cricket. \n",
    "Indians play Baseball. \n",
    "Indians play Cricket. \n",
    "Indians watch Baseball. \n",
    "Indians watch Cricket. \n",
    "NOTE:ThesolutionsharedthroughGithubshouldcontainthesource codeusedandthe screenshotoftheoutput. \n",
    "3.Output \n",
    "This assignment consists of 200 marks and the solution file needs to be submitted in the  upcoming session in .ipynb format for evaluation.\n"
   ]
  },
  {
   "cell_type": "code",
   "execution_count": 11,
   "metadata": {},
   "outputs": [
    {
     "name": "stdout",
     "output_type": "stream",
     "text": [
      "Americans Play Baseball\n",
      "Americans Play Cricket\n",
      "Americans watch Baseball\n",
      "Americans watch Cricket\n",
      "Indians Play Baseball\n",
      "Indians Play Cricket\n",
      "Indians watch Baseball\n",
      "Indians watch Cricket\n"
     ]
    }
   ],
   "source": [
    "subjects = [\"Americans\", \"Indians\"]\n",
    "verbs = [\"Play\", \"watch\"] \n",
    "objects = [\"Baseball\",\"Cricket\"]\n",
    "\n",
    "\n",
    "sentances = [ f'{s} {v} {o}' for s in subjects for v in verbs for o in objects ]\n",
    "\n",
    "for s in sentances :\n",
    "    print(s)\n",
    "    \n"
   ]
  }
 ],
 "metadata": {
  "kernelspec": {
   "display_name": "Python 3",
   "language": "python",
   "name": "python3"
  },
  "language_info": {
   "codemirror_mode": {
    "name": "ipython",
    "version": 3
   },
   "file_extension": ".py",
   "mimetype": "text/x-python",
   "name": "python",
   "nbconvert_exporter": "python",
   "pygments_lexer": "ipython3",
   "version": "3.8.3"
  }
 },
 "nbformat": 4,
 "nbformat_minor": 4
}
