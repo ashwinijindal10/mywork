{
 "cells": [
  {
   "cell_type": "markdown",
   "metadata": {},
   "source": [
    "Calculate the mean, median, mode and standard deviation for the problem  statements 1& 2. \n"
   ]
  },
  {
   "cell_type": "code",
   "execution_count": 106,
   "metadata": {},
   "outputs": [],
   "source": [
    "import numpy  as np\n",
    "import pandas as pd\n",
    "import math\n",
    "import scipy\n",
    "from scipy import stats\n",
    "import seaborn\n",
    "import matplotlib.pyplot as plt"
   ]
  },
  {
   "cell_type": "markdown",
   "metadata": {},
   "source": [
    "Problem Statement 1:  \n",
    "The marks awarded for an assignment set for a Year 8 class of 20 students were as  follows: \n",
    "6 7 5 7 7 8 7 6 9 7 4 10 6 8 8 9 5 6 4 8 \n",
    "\n"
   ]
  },
  {
   "cell_type": "code",
   "execution_count": 20,
   "metadata": {},
   "outputs": [
    {
     "name": "stdout",
     "output_type": "stream",
     "text": [
      "mean: 6.85 , median: 7.0,mode: ModeResult(mode=array([7]), count=array([5])) ,standard deviation: 1.5898113095584647\n"
     ]
    }
   ],
   "source": [
    "ar = np.array([6 ,7 ,5, 7, 7, 8, 7, 6, 9, 7, 4, 10, 6, 8, 8, 9, 5, 6, 4, 8])\n",
    "\n",
    "print(f'mean: { np.mean(ar)} , median: {np.median(ar)},mode: {stats.mode(ar)} ,standard deviation: {np.std(ar)}' )"
   ]
  },
  {
   "cell_type": "markdown",
   "metadata": {},
   "source": [
    "Problem Statement 2:  \n",
    "The number of calls from motorists per day for roadside service was recorded for a  particular month: \n",
    "28, 122, 217, 130, 120, 86, 80, 90, 140, 120, 70, 40, 145, 113, 90, 68, 174, 194, 170,  100, 75, 104, 97, 75, \n",
    "123, 100, 75, 104, 97, 75, 123, 100, 89, 120, 109 \n"
   ]
  },
  {
   "cell_type": "code",
   "execution_count": 21,
   "metadata": {},
   "outputs": [
    {
     "name": "stdout",
     "output_type": "stream",
     "text": [
      "mean: 107.51428571428572 , median: 100.0,mode: ModeResult(mode=array([75]), count=array([4])) ,standard deviation: 38.77287080168403\n"
     ]
    }
   ],
   "source": [
    "ar = np.array([ 28, 122, 217, 130, 120, 86, 80, 90, 140, 120, 70, 40, 145, 113, 90, 68, 174, 194, 170, 100, 75, 104, 97, 75, 123, 100, 75, 104, 97, 75, 123, 100, 89, 120, 109])\n",
    "\n",
    "print(f'mean: { np.mean(ar)} , median: {np.median(ar)},mode: {stats.mode(ar)} ,standard deviation: {np.std(ar)}' )"
   ]
  },
  {
   "cell_type": "markdown",
   "metadata": {},
   "source": [
    "Problem Statement 3:  \n",
    "The number of times I go to the gym in weekdays, are given below along with its  associated probability: \n",
    "x = 0, 1, 2, 3, 4, 5 \n",
    "f(x) = 0.09, 0.15, 0.40, 0.25, 0.10, 0.01 \n",
    "Calculate the mean no. of workouts in a week. Also evaluate the variance involved in  it. \n"
   ]
  },
  {
   "cell_type": "code",
   "execution_count": 25,
   "metadata": {},
   "outputs": [
    {
     "name": "stdout",
     "output_type": "stream",
     "text": [
      "mean no. of workouts in a week : 0.35833333333333334\n",
      "variance : 0.10284722222222224\n"
     ]
    }
   ],
   "source": [
    "x= np.array([0, 1, 2, 3, 4, 5 ])\n",
    "p = np.array([0.09, 0.15, 0.40, 0.25, 0.10, 0.01])\n",
    "\n",
    "print('mean no. of workouts in a week :' ,np.mean(x*p))\n",
    "print('variance :' ,np.var(x*p))"
   ]
  },
  {
   "cell_type": "markdown",
   "metadata": {},
   "source": [
    "Problem Statement 4: \n",
    "\n",
    "Let  the  continuous random  variable  D denote  the  diameter of  the  hole  drilled  in  an aluminum  sheet.  The  target  diameter  to  be  achieved  is 12.5mm.  Random disturbances in  the  process often  result in  inaccuracy. Historical data  shows that  the  distribution  of  D can  be  modelled  by  the  PDF (𝑑) = 20𝑒−20(𝑑−12.5),  𝑑  ≥  12.5.  If  a  part  with  diameter >  12.6  mm  needs  to  be  scrapped, what  is the  proportion  of  those  parts?  What  is  the  CDF  when  the  diameter is of  11 mm? What  is your conclusion  regarding  the  proportion  of  scraps? "
   ]
  },
  {
   "cell_type": "markdown",
   "metadata": {},
   "source": [
    "Problem Statement 5:  \n",
    "A company manufactures LED bulbs with a faulty rate of 30%. If I randomly select 6  chosen LEDs, what is the probability of having 2 faulty LEDs in my sample?  Calculate the average value of this process. Also evaluate the standard deviation  associated with it. \n"
   ]
  },
  {
   "cell_type": "code",
   "execution_count": 7,
   "metadata": {},
   "outputs": [
    {
     "data": {
      "text/plain": [
       "0.3241349999999999"
      ]
     },
     "execution_count": 7,
     "metadata": {},
     "output_type": "execute_result"
    }
   ],
   "source": [
    "#binomial distribution\n",
    "\n",
    "def probablity_of_n_binomial_distribution(N,n,p):\n",
    "    return math.comb(N,n) * math.pow(p,n) * math.pow(1-p,N-n) \n",
    "\n",
    "p =0.30\n",
    "N=6\n",
    "n=2\n",
    "\n",
    "probablity_of_n_binomial_distribution(N,n,p)\n"
   ]
  },
  {
   "cell_type": "markdown",
   "metadata": {},
   "source": [
    "Problem Statement 6:\n",
    "\n",
    "Gaurav and Barakha are both preparing for entrance exams. Gaurav attempts to  solve 8 questions per day with a correction rate of 75%, while Barakha averages  around 12 questions per day with a correction rate of 45%. What is the probability  that each of them will solve 5 questions correctly? What happens in cases of 4 and 6  correct solutions? What do you infer from it? What are the two main governing  factors affecting their ability to solve questions correctly? Give a pictorial  representation of the same to validate your answer"
   ]
  },
  {
   "cell_type": "code",
   "execution_count": 10,
   "metadata": {},
   "outputs": [
    {
     "name": "stdout",
     "output_type": "stream",
     "text": [
      "probablity of Gaurav to solve 5 question correctly 0.2076416015625\n",
      "probablity of Barakha to solve 5 question correctly 0.22249823843265837\n",
      "probablity of Gaurav to solve 4 question correctly 0.086517333984375\n",
      "probablity of Barakha to solve 6 question correctly 0.2123846821402648\n"
     ]
    }
   ],
   "source": [
    "\n",
    "print('probablity of Gaurav to solve 5 question correctly', probablity_of_n_binomial_distribution(8,5,0.75))\n",
    "print('probablity of Barakha to solve 5 question correctly', probablity_of_n_binomial_distribution(12,5,0.45))\n",
    "\n",
    "print('probablity of Gaurav to solve 4 question correctly', probablity_of_n_binomial_distribution(8,4,0.75))\n",
    "print('probablity of Barakha to solve 6 question correctly', probablity_of_n_binomial_distribution(12,6,0.45))\n"
   ]
  },
  {
   "cell_type": "code",
   "execution_count": 35,
   "metadata": {},
   "outputs": [
    {
     "data": {
      "text/plain": [
       "[Text(0, 0.5, 'Frequency'), Text(0.5, 0, 'Binomial dist ')]"
      ]
     },
     "execution_count": 35,
     "metadata": {},
     "output_type": "execute_result"
    },
    {
     "data": {
      "image/png": "[encoded data removed]",
      "text/plain": [
       "<Figure size 432x288 with 1 Axes>"
      ]
     },
     "metadata": {
      "needs_background": "light"
     },
     "output_type": "display_data"
    }
   ],
   "source": [
    "# binomial dist for gaurav and barkha \n",
    "\n",
    "data1=stats.binom.rvs(n=8,p=0.75,loc=0,size=100)\n",
    "data2=stats.binom.rvs(n=12,p=0.45,loc=0,size=100)\n",
    "\n",
    "ax=seaborn.distplot(data1,kde=True,color='blue')\n",
    "ax= seaborn.distplot(data2,kde=True,color='red')\n",
    "\n",
    "ax.set(xlabel='Binomial dist ',ylabel='Frequency')\n"
   ]
  },
  {
   "cell_type": "markdown",
   "metadata": {},
   "source": [
    "Problem Statement 7: \n",
    "\n",
    "Customers arrive at a rate of 72 per hour to my shop. What is the probability of �� customers arriving in 4 minutes? a) 5 customers, b) not more than 3 customers, c)  more than 3 customers. Give a pictorial representation of the same to validate your  answer. "
   ]
  },
  {
   "cell_type": "code",
   "execution_count": 44,
   "metadata": {},
   "outputs": [
    {
     "name": "stdout",
     "output_type": "stream",
     "text": [
      "probablity of 5 customer arriving  0.17474768364388282\n",
      "not more than 3 customers  0.2942299164965641\n",
      "more than 3 customers  0.705770083503436\n"
     ]
    }
   ],
   "source": [
    "#Poisson Distribution\n",
    "\n",
    "#P(x; μ) = (e^-μ) (μ^x) / x!\n",
    "\n",
    "def probablity_of_x_poissonl_distribution(μ,x):\n",
    "    return (math.exp(-μ) * math.pow(μ,x))/ math.factorial(x) \n",
    "\n",
    "\n",
    "μ= 72/60*4\n",
    "\n",
    "\n",
    "\n",
    "print('probablity of 5 customer arriving ' ,probablity_of_x_poissonl_distribution(μ,5))\n",
    "\n",
    "# not more than 3 = p(x=0)+p(x=1)+ p(x=2)+p(x=3)\n",
    "\n",
    "total_probablity =probablity_of_x_poissonl_distribution(μ,0)+probablity_of_x_poissonl_distribution(μ,1)+probablity_of_x_poissonl_distribution(μ,2)+probablity_of_x_poissonl_distribution(μ,3)\n",
    "\n",
    "\n",
    "print('not more than 3 customers ' ,total_probablity)\n",
    "print('more than 3 customers ' ,1-total_probablity)\n",
    "\n",
    "\n",
    "\n"
   ]
  },
  {
   "cell_type": "code",
   "execution_count": 47,
   "metadata": {},
   "outputs": [
    {
     "data": {
      "text/plain": [
       "[Text(0, 0.5, 'Frequency'), Text(0.5, 0, 'Poisson dist ')]"
      ]
     },
     "execution_count": 47,
     "metadata": {},
     "output_type": "execute_result"
    },
    {
     "data": {
      "image/png": "[encoded data removed]",
      "text/plain": [
       "<Figure size 432x288 with 1 Axes>"
      ]
     },
     "metadata": {
      "needs_background": "light"
     },
     "output_type": "display_data"
    }
   ],
   "source": [
    "#Poisson Distribution plot\n",
    "\n",
    "data=stats.poisson.rvs(loc=0, mu=μ, size=122)\n",
    "\n",
    "ax=seaborn.distplot(data,kde=True,color='blue')\n",
    "\n",
    "ax.set(xlabel='Poisson dist ',ylabel='Frequency')"
   ]
  },
  {
   "cell_type": "markdown",
   "metadata": {},
   "source": [
    "Problem Statement 8: \n",
    "I work as a data analyst in Aeon Learning Pvt. Ltd. After analyzing data, I make  reports, where I have the efficiency of entering 77 words per minute with 6 errors per  hour. What is the probability that I will commit 2 errors in a 455-word financial report? What happens when the no. of words increases/decreases (in case of 1000 words,  255 words)?  \n",
    "How is the �� affected? \n",
    "How does it influence the PMF?  \n",
    "Give a pictorial representation of the same to validate your answer. \n"
   ]
  },
  {
   "cell_type": "code",
   "execution_count": 75,
   "metadata": {},
   "outputs": [
    {
     "name": "stdout",
     "output_type": "stream",
     "text": [
      "probablity of 2 error in 455 words 0.09669027375144446\n",
      "probablity of 2 error in 1000 words 0.23012815007300153\n",
      "probablity of 2 error in 255 words 0.039377135392854104\n"
     ]
    }
   ],
   "source": [
    "# efficiency =77 word / minute\n",
    "# error rate = 6/60 error / minute = 0.1 error/ minute\n",
    "\n",
    "#for per word error rate \n",
    "avg_error_per_word = 0.1/77\n",
    "\n",
    "\n",
    "print('probablity of 2 error in 455 words' ,probablity_of_x_poissonl_distribution(μ = 455*avg_error_per_word ,x=2))\n",
    "print('probablity of 2 error in 1000 words' ,probablity_of_x_poissonl_distribution(μ = 1000*avg_error_per_word ,x=2))\n",
    "print('probablity of 2 error in 255 words' ,probablity_of_x_poissonl_distribution(μ = 255*avg_error_per_word ,x=2))\n"
   ]
  },
  {
   "cell_type": "code",
   "execution_count": 81,
   "metadata": {},
   "outputs": [
    {
     "data": {
      "text/plain": [
       "[Text(0, 0.5, 'Frequency'), Text(0.5, 0, 'Poisson dist ')]"
      ]
     },
     "execution_count": 81,
     "metadata": {},
     "output_type": "execute_result"
    },
    {
     "data": {
      "image/png": "[encoded data removed]",
      "text/plain": [
       "<Figure size 432x288 with 1 Axes>"
      ]
     },
     "metadata": {
      "needs_background": "light"
     },
     "output_type": "display_data"
    }
   ],
   "source": [
    "#Poisson Distribution plot\n",
    "\n",
    "data1=stats.poisson.rvs(loc=0, mu=avg_error_per_word*455, size=200)\n",
    "data1=stats.poisson.rvs(loc=0, mu=avg_error_per_word*1000, size=200)\n",
    "data3=stats.poisson.rvs(loc=0, mu=avg_error_per_word*255, size=200)\n",
    "\n",
    "ax=seaborn.distplot(data1,kde=True,color='blue')\n",
    "ax=seaborn.distplot(data2,kde=True,color='red')\n",
    "ax=seaborn.distplot(data3,kde=True,color='black')\n",
    "\n",
    "ax.set(xlabel='Poisson dist ',ylabel='Frequency')"
   ]
  },
  {
   "cell_type": "markdown",
   "metadata": {},
   "source": [
    "Problem Statement 10: \n",
    "\n",
    "Please  compute  the  following:\n",
    "\n",
    "a) P(Z >  1.26), .  P(Z  <  −0.86), P(Z  > −1.37),  P(−1.25  < Z <  0.37),  .  P(Z  ≤  −4.6)\n",
    "\n",
    "b) Find  the  value  𝑧  such  that  𝑃(𝑍  >  𝑧) =  0.05\n",
    "\n",
    "c)  Find  the  value  of  𝑧  such  that  𝑃(−𝑧  <  𝑍  <  𝑧) =  0.99 \n"
   ]
  },
  {
   "cell_type": "code",
   "execution_count": 93,
   "metadata": {},
   "outputs": [
    {
     "name": "stdout",
     "output_type": "stream",
     "text": [
      "P(Z > 1.26) = 0.1038\n",
      "P(Z < −0.86) = 0.1949\n",
      "P(Z > −1.37) = 0.9147\n",
      "P(−1.25 < Z < 0.37) = 0.5423\n",
      "P(Z ≤ −4.6) = 1\n",
      "value 𝑧 such that 𝑃(𝑍 > 𝑧) = 0.05  z= 1.65\n",
      "value of 𝑧 such that 𝑃(−𝑧 < 𝑍 < 𝑧) = 0.99   z= 0.01\n"
     ]
    }
   ],
   "source": [
    "print('P(Z > 1.26) =' , 1- 0.8962)\n",
    "print('P(Z < −0.86) =' ,  0.1949)\n",
    "print('P(Z > −1.37) =' , 1 - .0853)\n",
    "print('P(−1.25 < Z < 0.37) =' , 0.6443 - 0.1020)\n",
    "print('P(Z ≤ −4.6) =' , 1)\n",
    "print('value 𝑧 such that 𝑃(𝑍 > 𝑧) = 0.05  z=', 1.65)\n",
    "print('value of 𝑧 such that 𝑃(−𝑧 < 𝑍 < 𝑧) = 0.99   z=' , 0.01)"
   ]
  },
  {
   "cell_type": "markdown",
   "metadata": {},
   "source": [
    "Problem Statement 11: \n",
    "The  current  flow  in  a  copper wire  follow  a  normal distribution  with  a  mean  of  10  𝑚A and  a  variance  of  4  (𝑚𝐴)2.   What  is the  probability  that  a  current  measurement  will exceed  13  𝑚𝐴?  What  is the probability  that  a  current  measurement  is between  9  and  11mA?  Determine  the current  measurement  which  has a  probability of  0.98. "
   ]
  },
  {
   "cell_type": "code",
   "execution_count": 139,
   "metadata": {},
   "outputs": [
    {
     "name": "stdout",
     "output_type": "stream",
     "text": [
      "probability that a current measurement will exceed 13 𝑚𝐴 P(Z > 1.5) =  0.06679999999999997\n",
      "probability that a current measurement is between 9 and 11mA P( -0.5 > Z > 0.5) =  0.383\n",
      "current measurement for P(0.98) = not  exceed  14.120000000000001  \n"
     ]
    }
   ],
   "source": [
    "def get_zscore(x̅ , μ ,σ):\n",
    "    return (x̅- μ)/ σ\n",
    "\n",
    "def get_xval(z,μ ,σ):\n",
    "    return z*σ + μ\n",
    "\n",
    "μ= 10\n",
    "var = 4\n",
    "σ = math.sqrt(var)\n",
    "\n",
    "print(f'probability that a current measurement will exceed 13 𝑚𝐴 P(Z > { get_zscore(13,μ , σ) }) = ' ,1-  0.9332)\n",
    "print(f'probability that a current measurement is between 9 and 11mA P( {get_zscore(9,μ , σ)} > Z > { get_zscore(11,μ , σ) }) = ' , 0.6915-  0.3085)\n",
    "\n",
    "z=2.06\n",
    "print(f'current measurement for P(0.98) = not  exceed  {get_xval(z,μ ,σ)}  ' )\n"
   ]
  },
  {
   "cell_type": "code",
   "execution_count": 125,
   "metadata": {},
   "outputs": [
    {
     "data": {
      "image/png": "[encoded data removed]",
      "text/plain": [
       "<Figure size 432x288 with 1 Axes>"
      ]
     },
     "metadata": {
      "needs_background": "light"
     },
     "output_type": "display_data"
    }
   ],
   "source": [
    "x = np.linspace(μ-σ*3, μ+σ*3, 100)\n",
    "\n",
    "y = scipy.stats.norm.pdf(x,μ,σ)\n",
    "\n",
    "plt.plot(x,y, color='coral')\n",
    "\n",
    "plt.grid()"
   ]
  },
  {
   "cell_type": "markdown",
   "metadata": {},
   "source": [
    "Problem Statement 12: \n",
    "The shaft in a piston has its diameter normally distributed with a mean of 0.2508 inch  and a standard deviation of 0.0005 inch. The specifications of the shaft are 0.2500 ∓ 0.0015 inch. What proportion of shafts are in sync with the specifications? If the  process is centered so that the mean is equal to the target value of 0.2500, what  proportion of shafts conform to the new specifications? What is your conclusion from  this experiment? \n",
    "EXPECTED OUTPUT: This assignment consists of 1000 marks and  needs to be submitted in .ipynb/PDF format in the upcoming session for  evaluation."
   ]
  },
  {
   "cell_type": "code",
   "execution_count": 151,
   "metadata": {},
   "outputs": [
    {
     "name": "stdout",
     "output_type": "stream",
     "text": [
      " P(-4.6000000000000485 < Z < 1.3999999999999568) =  0.9177\n",
      " P(-3.0000000000000027 < Z < 3.0000000000000027) =  0.9973\n"
     ]
    }
   ],
   "source": [
    "#range = 0.2500 ∓ 0.0015\n",
    "\n",
    "\n",
    "z1= get_zscore(x̅ = 0.2515 , μ =0.2508,σ =0.0005)\n",
    "z2= get_zscore(x̅ = 0.2485 , μ =0.2508,σ =0.0005)\n",
    "\n",
    "print(f'portion of sync with specification P({z2} < Z < {z1}) = ', 0.9177-0 )\n",
    "\n",
    "# if the mean is equal 0.2500\n",
    "\n",
    "z1= get_zscore(x̅ = 0.2515 , μ =0.2500,σ =0.0005)\n",
    "z2= get_zscore(x̅ = 0.2485 , μ =0.2500,σ =0.0005)\n",
    "\n",
    "print(f'portion of sync with specification  P({z2} < Z < {z1}) = ', 0.9973-0 )\n",
    "\n",
    "# conclusion : specification and mean are closed , so it will give high protion of sync ."
   ]
  }
 ],
 "metadata": {
  "kernelspec": {
   "display_name": "Python 3",
   "language": "python",
   "name": "python3"
  },
  "language_info": {
   "codemirror_mode": {
    "name": "ipython",
    "version": 3
   },
   "file_extension": ".py",
   "mimetype": "text/x-python",
   "name": "python",
   "nbconvert_exporter": "python",
   "pygments_lexer": "ipython3",
   "version": "3.8.3"
  }
 },
 "nbformat": 4,
 "nbformat_minor": 4
}
