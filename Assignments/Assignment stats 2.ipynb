{
 "cells": [
  {
   "cell_type": "code",
   "execution_count": 64,
   "metadata": {},
   "outputs": [],
   "source": [
    "import math\n",
    "import numpy as np\n",
    "\n",
    "def calculate_z(𝜇,𝜎,x,n):\n",
    "    return ((x-𝜇)*math.sqrt(n))/ 𝜎\n",
    "\n",
    "\n",
    "def calculate_population_dff_Zval(x1,x2,n1,n2,s1,s2):\n",
    "    stdError=math.sqrt((s1**2)/n1 + (s2**2)/n2)\n",
    "    return (x1-x2)/stdError\n",
    "\n",
    "def calculate_population_dff_Tval(x1,x2,n1,n2,s1,s2):\n",
    "    stdError= math.sqrt((((n1-1)*s1**2) + ((n2-1)*s2**2))/(n1+n2-2))* math.sqrt(1/n1+ 1/n2) \n",
    "    return  (x1-x2)/stdError\n",
    "\n"
   ]
  },
  {
   "cell_type": "markdown",
   "metadata": {},
   "source": [
    "Problem Statement 1:\n",
    "\n",
    "In each of the following situations, state whether it is a correctly stated hypothesis testing problem and why?  1. 𝐻0: 𝜇 = 25, 𝐻1: 𝜇 ≠ 25 2. 𝐻0: 𝜎 > 10, 𝐻1: 𝜎 = 10 3. 𝐻0: 𝑥 = 50, 𝐻1: 𝑥 ≠ 50 4. 𝐻0: 𝑝 = 0.1, 𝐻1: 𝑝 = 0.5 5. 𝐻0: 𝑠 = 30, 𝐻1: 𝑠 > 30\n"
   ]
  },
  {
   "cell_type": "markdown",
   "metadata": {},
   "source": [
    "1. 𝐻0: 𝜇 = 25, 𝐻1: 𝜇 ≠ 25 => Corrrect , alternate hypothesis is possible with 𝜇>25 and 𝜇<25\n",
    "2. 𝐻0: 𝜎 > 10, 𝐻1: 𝜎 = 10 => Incorrect , alternate hypothesis should be  𝜎 <10 and 𝜎= 10\n",
    "3. 𝐻0: 𝑥 = 50, 𝐻1: 𝑥 ≠ 50  =>Incorrect , hypothesis testing always states about population not sample\n",
    "4. 𝐻0: 𝑝 = 0.1, 𝐻1: 𝑝 = 0.5 =>Incorrect , both alternate hypothesis is not clearly refusing null hypothesis \n",
    "5. 𝐻0: 𝑠 = 30, 𝐻1: 𝑠 > 30 =>Incorrect ,hypothesis testing always states about population not sample"
   ]
  },
  {
   "cell_type": "markdown",
   "metadata": {},
   "source": [
    "Problem Statement 2:\n",
    "\n",
    "The college bookstore tells prospective students that the average cost of its  textbooks is Rs. 52 with a standard deviation of Rs. 4.50. A group of smart statistics  students thinks that the average cost is higher. To test the bookstore’s claim against  their alternative, the students will select a random sample of size 100. Assume that  the mean from their random sample is Rs. 52.80. Perform a hypothesis test at the  5% level of significance and state your decision."
   ]
  },
  {
   "cell_type": "code",
   "execution_count": 6,
   "metadata": {},
   "outputs": [
    {
     "name": "stdout",
     "output_type": "stream",
     "text": [
      "area under corver 1.7777777777777715 =  0.9625\n",
      "Z (0.9625) > Z(0.95) clearly show area comes in critical region ,so we can reject null hypothesis\n"
     ]
    }
   ],
   "source": [
    "#𝐻0: 𝜇 = 52 ,𝐻1: 𝜇 >52 \n",
    "\n",
    "z= calculate_z(𝜇 = 52,𝜎 = 4.50,x= 52.80,n= 100)\n",
    "\n",
    "print(f'area under corver {z} = ',0.9625)\n",
    "\n",
    "critial_region = 1- 0.05\n",
    "\n",
    "print( f'Z (0.9625) > Z({critial_region}) clearly show area comes in critical region ,so we can reject null hypothesis')\n"
   ]
  },
  {
   "cell_type": "markdown",
   "metadata": {},
   "source": [
    "Problem Statement 3:  \n",
    "A certain chemical pollutant in the Genesee River has been constant for several  years with mean μ = 34 ppm (parts per million) and standard deviation σ = 8 ppm. A  group of factory representatives whose companies discharge liquids into the river is  now claiming that they have lowered the average with improved filtration devices. A  group of environmentalists will test to see if this is true at the 1% level of  significance. Assume \\ that their sample of size 50 gives a mean of 32.5 ppm.  Perform a hypothesis test at the 1% level of significance and state your decision. "
   ]
  },
  {
   "cell_type": "code",
   "execution_count": 26,
   "metadata": {},
   "outputs": [
    {
     "name": "stdout",
     "output_type": "stream",
     "text": [
      "area under corver -1.3258252147247767 =  0.0918\n",
      "Z (0.0918) < Z(0.99) clearly show area comes not coming in critical region ,so we cant reject null hypothesis,which means claim by the companies is wrong\n"
     ]
    }
   ],
   "source": [
    "#𝐻0: 𝜇 = 34 ,𝐻1: 𝜇 <34\n",
    "\n",
    "z= calculate_z(𝜇 = 34,𝜎 = 8,x= 32.5 ,n= 50)\n",
    "\n",
    "print(f'area under corver {z} = ',0.0918)\n",
    "\n",
    "critial_region = 1- 0.01\n",
    "\n",
    "print( f'Z (0.0918) < Z({critial_region}) clearly show area comes not coming in critical region ,so we can''t reject null hypothesis,which means claim by the companies is wrong')\n"
   ]
  },
  {
   "cell_type": "markdown",
   "metadata": {},
   "source": [
    "Problem Statement 4:  \n",
    "Based on population figures and other general information on the U.S. population,  suppose it has been estimated that, on average, a family of four in the U.S. spends  about $1135 annually on dental expenditures. Suppose further that a regional dental  association wants to test to determine if this figure is accurate for their area of  country. To test this, 22 families of 4 are randomly selected from the population in  that area of the country and a log is kept of the family’s dental expenditure for one  year. The resulting data are given below. Assuming, that dental expenditure is  normally distributed in the population, use the data and an alpha of 0.05 to test the  dental association’s hypothesis. \n",
    "1008, 812, 1117, 1323, 1308, 1415, 831, 1021, 1287, 851, 930, 730, 699, 872, 913, 944, 954, 987, 1695, 995, 1003, 994\n"
   ]
  },
  {
   "cell_type": "code",
   "execution_count": 9,
   "metadata": {},
   "outputs": [
    {
     "name": "stdout",
     "output_type": "stream",
     "text": [
      "x= 1031.3181818181818 ,s= 234.84799462314425\n",
      "-2.070747228595759\n",
      "0.31399999999999995\n",
      "area under corver -2.070747228595759 =  0.0918\n",
      "T value +/- 2.079614\n",
      "Z (0.0918) < Z(0.975) clearly show area comes not coming in critical region ,so we cant reject null hypothesis,which means claim by the companies is wrong\n"
     ]
    }
   ],
   "source": [
    "samples=[1008, 812, 1117, 1323, 1308, 1415, 831, 1021, 1287, 851, 930, 730, 699, 872, 913, 944, 954, 987, 1695, 995, 1003, 994]\n",
    "x= np.mean(samples)\n",
    "s=np.std(samples)\n",
    "α=0.05\n",
    "𝜇=1135\n",
    "\n",
    "print(f'x= {x} ,s= {s}')\n",
    "\n",
    "#student t testing \n",
    "t=calculate_z(𝜇 = 𝜇,𝜎 = s,x= x ,n= 22)\n",
    "\n",
    "print(t)\n",
    "#𝐻0: 𝜇 = 1135 ,𝐻1: 𝜇 > 1135 or  𝜇 < 1135\n",
    "\n",
    "print(1- 0.686)\n",
    "\n",
    "print(f'area under corver {t} = ',0.0918)\n",
    "\n",
    "critial_region = 1- α/2\n",
    "\n",
    "print('T value +/- 2.079614')\n",
    "\n",
    "\n",
    "print( f'Z (0.0918) < Z({critial_region}) clearly show area comes not coming in critical region ,so we can''t reject null hypothesis,which means claim by the companies is wrong')\n"
   ]
  },
  {
   "cell_type": "markdown",
   "metadata": {},
   "source": [
    "Problem Statement 5:  \n",
    "In  a  report  prepared  by  the  Economic Research  Department  of  a  major bank  the Department  manager maintains  that  the  average  annual  family  income  on  Metropolis is  $48,432.  What  do  you  conclude  about  the  validity  of  the  report if  a  random  sample of  400  families  shows and  average  income  of  $48,574  with  a  standard deviation  of 2000? "
   ]
  },
  {
   "cell_type": "code",
   "execution_count": 19,
   "metadata": {},
   "outputs": [
    {
     "name": "stdout",
     "output_type": "stream",
     "text": [
      "if α=0.05 then cirtial rigion 0.95\n",
      "1.42 area under the curve 0.9222 < 0.95 which show we failed reject null hypothesis\n"
     ]
    }
   ],
   "source": [
    "#H0: 𝜇=48432 H1: 𝜇>48432\n",
    "\n",
    "𝜇=48432\n",
    "s=2000\n",
    "x=48574\n",
    "\n",
    "t=calculate_z(𝜇 = 𝜇,𝜎 = s,x= x ,n= 400)\n",
    "\n",
    "print(f'if α=0.05 then cirtial rigion {1- 0.05}')\n",
    "print(f'{t} area under the curve {0.9222} < {1- 0.05} which show we failed reject null hypothesis')"
   ]
  },
  {
   "cell_type": "markdown",
   "metadata": {},
   "source": [
    "Problem Statement 6: \n",
    "Suppose that in past years the average price per square foot for warehouses in the  United States has been $32.28. A national real estate investor wants to determine  whether that figure has changed now. The investor hires a researcher who randomly  samples 19 warehouses that are for sale across the United States and finds that the  mean price per square foot is $31.67, with a standard deviation of $1.29. assume  that the prices of warehouse footage are normally distributed in population. If the  researcher uses a 5% level of significance, what statistical conclusion can be  reached? What are the hypotheses? \n"
   ]
  },
  {
   "cell_type": "code",
   "execution_count": 25,
   "metadata": {},
   "outputs": [
    {
     "name": "stdout",
     "output_type": "stream",
     "text": [
      "if α=0.05 then T value (two-tailed) +/- 2.100922\n",
      "-2.0611847717517895 area under the curve fall into acceptance region which show we failed reject null hypothesis\n"
     ]
    }
   ],
   "source": [
    "#H0: 𝜇=32.28 H1: 𝜇<32.28\n",
    "n=19\n",
    "𝜇=32.28\n",
    "x=31.67\n",
    "s=1.29\n",
    "α=0.05\n",
    "\n",
    "t=calculate_z(𝜇 = 𝜇,𝜎 = s,x= x ,n= n)\n",
    "\n",
    "print(f'if α=0.05 then T value (two-tailed) +/- {2.100922}')\n",
    "print(f'{t} area under the curve fall into acceptance region which show we failed reject null hypothesis')"
   ]
  },
  {
   "cell_type": "markdown",
   "metadata": {},
   "source": [
    "Problem Statement 7: \n",
    "Fill in the blank spaces in the table and draw your conclusions from it. \n"
   ]
  },
  {
   "cell_type": "markdown",
   "metadata": {},
   "source": [
    "Std. deviation not give :("
   ]
  },
  {
   "cell_type": "markdown",
   "metadata": {},
   "source": [
    "Problem Statement 8: \n",
    "Find the t-score for a sample size of 16 taken from a population with mean 10 when  the sample mean is 12 and the sample standard deviation is 1.5."
   ]
  },
  {
   "cell_type": "code",
   "execution_count": 29,
   "metadata": {},
   "outputs": [
    {
     "data": {
      "text/plain": [
       "5.333333333333333"
      ]
     },
     "execution_count": 29,
     "metadata": {},
     "output_type": "execute_result"
    }
   ],
   "source": [
    "t=calculate_z(𝜇 =10 ,𝜎 = 1.5,x= 12 ,n= 16)\n",
    "t"
   ]
  },
  {
   "cell_type": "markdown",
   "metadata": {},
   "source": [
    "Problem Statement 9: \n",
    "Find the t-score below which we can expect 99% of sample means will fall if samples  of size 16 are taken from a normally distributed population."
   ]
  },
  {
   "cell_type": "markdown",
   "metadata": {},
   "source": [
    "for two tail +/-2.947\n",
    "for one tail 2.602"
   ]
  },
  {
   "cell_type": "markdown",
   "metadata": {},
   "source": [
    "Problem Statement 10:  \n",
    "If  a  random  sample  of  size  25  drawn  from  a  normal  population  gives  a  mean  of  60 and  a  standard deviation  of  4,  find  the  range  of  t-scores  where we  can  expect  to  find the  middle  95%  of  all  sample  means.  Compute  the  probability  that  (−𝑡0.05  <𝑡<𝑡0.10). "
   ]
  },
  {
   "cell_type": "markdown",
   "metadata": {},
   "source": [
    "Problem Statement 11: \n",
    "\n",
    "Two-tailed test for difference between two population means \n",
    "Is there evidence to conclude that the number of people travelling from Bangalore to  Chennai is different from the number of people travelling from Bangalore to Hosur in  a week, given the following: \n",
    "Population 1: Bangalore to Chennai n1 = 1200 \n",
    "x1 = 452 \n",
    "s1 = 212 \n",
    "Population 2: Bangalore to Hosur n2 = 800 \n",
    "x2 = 523 \n",
    "s2 = 185 \n"
   ]
  },
  {
   "cell_type": "code",
   "execution_count": 48,
   "metadata": {},
   "outputs": [
    {
     "name": "stdout",
     "output_type": "stream",
     "text": [
      "Z values for both samples  -7.926428526759299\n",
      "area under curve is ~1, experiment proves that with signficance level 0.05 null hypothesis could be rejected.\n"
     ]
    }
   ],
   "source": [
    "print ('Z values for both samples ',calculate_population_dff_Zval(x1=452, x2=523,n1=1200,n2=800,s1=212,s2=185))\n",
    "\n",
    "print('area under curve is ~1, experiment proves that with signficance level 0.05 null hypothesis could be rejected.')"
   ]
  },
  {
   "cell_type": "markdown",
   "metadata": {},
   "source": [
    "Problem Statement 12: \n",
    "Is there evidence to conclude that the number of people preferring Duracell battery is  different from the number of people preferring Energizer battery, given the following: Population 1: Duracell \n",
    "n1 = 100 \n",
    "x1 = 308 \n",
    "s1 = 84 \n",
    "Population 2: Energizer \n",
    "n2 = 100 \n",
    "x2 = 254 \n",
    "s2 = 67 \n"
   ]
  },
  {
   "cell_type": "code",
   "execution_count": 49,
   "metadata": {},
   "outputs": [
    {
     "name": "stdout",
     "output_type": "stream",
     "text": [
      "Z values for both samples  5.025702668336442\n",
      "area under curve is ~1, experiment proves that with signficance level 0.05 null hypothesis could be rejected.\n"
     ]
    }
   ],
   "source": [
    "print ('Z values for both samples ',calculate_population_dff_Zval(x1=308, x2=254,n1=100,n2=100,s1=84,s2=67))\n",
    "\n",
    "print('area under curve is ~1, experiment proves that with signficance level 0.05 null hypothesis could be rejected.')"
   ]
  },
  {
   "cell_type": "markdown",
   "metadata": {},
   "source": [
    "Problem Statement 13:  \n",
    "Pooled estimate of the population variance \n",
    "Does the data provide sufficient evidence to conclude that average percentage increase in the price of sugar differs when it is sold at two different prices? Population 1: Price of sugar = Rs. 27.50 n1 = 14 \n",
    "x1 = 0.317% \n",
    "s1 = 0.12% \n",
    "Population 2: Price of sugar = Rs. 20.00 n2 = 9 \n",
    "x2 = 0.21% \n",
    "s2 = 0.11%\n"
   ]
  },
  {
   "cell_type": "code",
   "execution_count": 52,
   "metadata": {},
   "outputs": [
    {
     "name": "stdout",
     "output_type": "stream",
     "text": [
      "Z values for both samples  5.025702668336442\n",
      "area under curve is ~1, experiment proves that with signficance level 0.05 null hypothesis could be rejected.\n"
     ]
    }
   ],
   "source": [
    "print ('Z values for both samples ',calculate_population_dff_Zval(x1=308, x2=254,n1=100,n2=100,s1=84,s2=67))\n",
    "\n",
    "print('area under curve is ~1, experiment proves that with signficance level 0.05 null hypothesis could be rejected.')"
   ]
  },
  {
   "cell_type": "markdown",
   "metadata": {},
   "source": [
    "Problem Statement 14: \n",
    "\n",
    "The manufacturers of compact disk players want to test whether a small price  reduction is enough to increase sales of their product. Is there evidence that the  small price reduction is enough to increase sales of compact disk players? Population 1: Before reduction \n",
    "n1 = 15 \n",
    "x1 = Rs. 6598 s1 = Rs. 844 \n",
    "Population 2: After reduction n2 = 12 \n",
    "x2 = RS. 6870 \n",
    "s2 = Rs. 669 "
   ]
  },
  {
   "cell_type": "code",
   "execution_count": 75,
   "metadata": {},
   "outputs": [
    {
     "name": "stdout",
     "output_type": "stream",
     "text": [
      "T value =-0.91  and df =25 ,t(0.05)=1.7\n",
      " 0.91 < 1.7  H0 accepted\n"
     ]
    }
   ],
   "source": [
    "#H0 small price reduction is enough to increase sale \n",
    "#H1 = it is not enough\n",
    "\n",
    "x1=6598\n",
    "x2=6870\n",
    "n1=15\n",
    "n2=12\n",
    "df= n1+n2-2\n",
    "α=0.05\n",
    "\n",
    "Tval = calculate_population_dff_Tval(x1=x1, x2=x2,n1=15,n2=12,s1=844,s2=669)\n",
    "\n",
    "print(f'T value ={round(Tval,2)}  and df ={df} ,t({α})={1.70}')\n",
    "print(f' {round(Tval,2)*-1} < 1.7  H0 accepted')\n",
    "\n"
   ]
  },
  {
   "cell_type": "markdown",
   "metadata": {},
   "source": [
    "Problem Statement 15: \n",
    "\n",
    "Comparisons of  two  population  proportions when  the  hypothesized  difference  is zero Carry  out  a  two-tailed  test  of  the  equality  of  banks’ share of  the  car loan  market  in 1980  and  1995. Population  1:  1980 n1  = 1000 x1  = 53 𝑝  1  = 0.53 Population  2:  1985 n2  = 100 x2  = 43 𝑝   2=  0.53 "
   ]
  },
  {
   "cell_type": "code",
   "execution_count": 76,
   "metadata": {},
   "outputs": [
    {
     "name": "stdout",
     "output_type": "stream",
     "text": [
      "T value =0.03  and df =1098 ,t(0.05)=1.7\n",
      " -0.03 < 1.7  H0 accepted\n"
     ]
    }
   ],
   "source": [
    "#H0 bank share are equal \n",
    "#H1 it is not equal\n",
    "\n",
    "x1=53\n",
    "x2=43\n",
    "p1=0.53\n",
    "n1=1000\n",
    "n2=100\n",
    "p2=0.53\n",
    "\n",
    "df= n1+n2-2\n",
    "α=0.05\n",
    "\n",
    "Tval = calculate_population_dff_Tval(x1=x1, x2=x2,n1=15,n2=12,s1=844,s2=669)\n",
    "\n",
    "print(f'T value ={round(Tval,2)}  and df ={df} ,t({α})={1.70}')\n",
    "print(f' {round(Tval,2)*-1} < 1.7  H0 accepted')\n"
   ]
  },
  {
   "cell_type": "markdown",
   "metadata": {},
   "source": [
    "Problem Statement 16:  \n",
    "\n",
    "Carry out a one-tailed test to determine whether the population proportion of  traveler’s check buyers who buy at least $2500 in checks when sweepstakes prizes  are offered as at least 10% higher than the proportion of such buyers when no  sweepstakes are on. \n",
    "Population 1: With sweepstakes \n",
    "n1 = 300 \n",
    "x1 = 120 \n",
    "�� = 0.40 \n",
    "Population 2: No sweepstakes n2 = 700 \n",
    "x2 = 140 \n",
    "�� 2= 0.20 \n",
    "\n",
    "Problem Statement 17:  \n",
    "\n",
    "A die is thrown 132 times with the following results: Number turned up: 1, 2, 3, 4, 5, 6 Frequency: 16, 20, 25, 14, 29, 28 \n",
    "Is the die unbiased? Consider the degrees of freedom as �� − .\n",
    "\n",
    "Problem Statement 18:  \n",
    "\n",
    "In a certain town, there are about one million eligible voters. A simple random  sample of 10,000 eligible voters was chosen to study the relationship between  gender and participation in the last election. The results are summarized in the  following 2X2 (read two by two) contingency table: \n",
    "\n",
    "We would want to check whether being a man or a woman (columns) is independent of  having voted in the last election (rows). In other words, is “gender and voting independent”? \n",
    "\n",
    "Problem Statement 19:  \n",
    "\n",
    "A sample of 100 voters are asked which of four candidates they would vote for in an  election. The number supporting each candidate is given below: \n",
    "\n",
    "Do the data suggest that all candidates are equally popular? [Chi-Square = 14.96,  with 3 df, �� 0.05 . \n",
    "\n",
    "Problem Statement 20: \n",
    "Children of three ages are asked to indicate their preference for three photographs of  adults. Do the data suggest that there is a significant relationship between age and  photograph preference? What is wrong with this study? [Chi-Square = 29.6, with 4  df: �� < 0.05].\n",
    "\n",
    "Problem Statement 21:  \n",
    "A study of conformity using the Asch paradigm involved two conditions: one where  one confederate supported the true judgement and another where no confederate  gave the correct response. \n",
    "\n",
    "Is there a significant difference between the \"support\" and \"no support\" conditions in the  frequency with which individuals are likely to conform? [Chi-Square = 19.87, with 1 df: �� < 0.05]. \n",
    "\n",
    "Problem Statement 22:  \n",
    "We want to test whether short people differ with respect to their leadership qualities  (Genghis Khan, Adolf Hitler and Napoleon were all stature-deprived, and how many midget  MP's are there?) The following table shows the frequencies with which 43 short people and  52 tall people were categorized as \"leaders\", \"followers\" or as \"unclassifiable\". Is there a  relationship between height and leadership qualities?  \n",
    "[Chi-Square = 10.71, with 2 df: �� < 0.01]. \n",
    "\n",
    "Problem Statement 23:  \n",
    "Each respondent in the Current Population Survey of March 1993 was classified as  employed, unemployed, or outside the labor force. The results for men in California age 35- 44 can be cross-tabulated by marital status, as follows:\n",
    "\n",
    "Men of different marital status seem to have different distributions of labor force status. Or is  this just chance variation? (you may assume the table results from a simple random  sample.) \n",
    "EXPECTED OUTPUT: This assignment consists of 2000 marks and  needs to be submitted in .ipynb/PDF format in the upcoming session for  evaluation."
   ]
  },
  {
   "cell_type": "code",
   "execution_count": null,
   "metadata": {},
   "outputs": [],
   "source": []
  }
 ],
 "metadata": {
  "kernelspec": {
   "display_name": "Python 3",
   "language": "python",
   "name": "python3"
  },
  "language_info": {
   "codemirror_mode": {
    "name": "ipython",
    "version": 3
   },
   "file_extension": ".py",
   "mimetype": "text/x-python",
   "name": "python",
   "nbconvert_exporter": "python",
   "pygments_lexer": "ipython3",
   "version": "3.8.3"
  }
 },
 "nbformat": 4,
 "nbformat_minor": 4
}
