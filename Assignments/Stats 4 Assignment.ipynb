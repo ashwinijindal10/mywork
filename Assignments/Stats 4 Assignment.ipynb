{
 "cells": [
  {
   "cell_type": "markdown",
   "metadata": {},
   "source": [
    "Problem Statement 1: \n",
    "\n",
    "Is gender independent of education level? A random sample of 395 people were surveyed and each person was asked to report the highest education level they obtained. The data that resulted from the survey is summarized in the following table:  High School Bachelors Masters Ph.d. Total  Female 60 54 46 41 201 Male  40 44 53 57 194 Total 100 98 99 98 395  Question: Are gender and education level dependent at 5% level of significance? In other words, given the data collected above, is there a relationship between the gender of an individual and the level of education that they have obtained? "
   ]
  },
  {
   "cell_type": "code",
   "execution_count": 33,
   "metadata": {},
   "outputs": [
    {
     "name": "stdout",
     "output_type": "stream",
     "text": [
      "---------------Observed frequncy -------------------\n",
      "         Bachelors  High School  Masters  Ph.d.\n",
      "Female         54           60       46     41\n",
      "Male           44           40       53     57\n",
      "\n",
      "--------------Expected frequncy -------------------\n",
      "         Bachelors  High School    Masters      Ph.d.\n",
      "Female  49.868354    50.886076  50.377215  49.868354\n",
      "Male    48.131646    49.113924  48.622785  48.131646\n",
      "\n",
      "--------------chi square score -------------------\n",
      " 8.006066246262538\n",
      "Critical value=  7.814727903251179\n",
      "chi square score(8.006066246262538) > Critical value(7.814727903251179) , prooves null hypothesis is rejected and edujection level depends on gender \n"
     ]
    }
   ],
   "source": [
    "import numpy as np\n",
    "import pandas as pd\n",
    "import scipy.stats as stats\n",
    "\n",
    "n= 395\n",
    "α=0.05\n",
    "\n",
    "f_list = [60,54,46,41]\n",
    "m_list = [40,44,53,57]\n",
    "h = [40,60]\n",
    "b = [44,54]\n",
    "m = [53,46]\n",
    "p = [57,41]\n",
    "marks = m_list + f_list\n",
    "\n",
    "sex =  ['Male','Male','Male','Male','Female','Female','Female','Female']\n",
    "edu = ['High School', 'Bachelors', 'Masters', 'Ph.d.','High School', 'Bachelors', 'Masters', 'Ph.d.']\n",
    "df_edu = pd.DataFrame({\"Sex\":sex,\"Edu\":edu,\"Marks\":marks})\n",
    "\n",
    "df2 = pd.crosstab(df_edu.Sex, df_edu.Edu,df_edu.Marks, aggfunc=\"sum\",margins=True)\n",
    "df2.columns = [\"Bachelors\",\"High School\",\"Masters\",\"Ph.d.\",\"row_totals\"]\n",
    "df2.index = [\"Female\",\"Male\",\"col_totals\"]\n",
    "\n",
    "observed = df2.iloc[0:2,0:4]   # Get table without totals for later use\n",
    "observed\n",
    "\n",
    "print('---------------Observed frequncy -------------------\\n',observed)\n",
    "\n",
    "expected =  np.outer(df2[\"row_totals\"][0:2],\n",
    "                     df2.loc[\"col_totals\"][0:4]) / n\n",
    "expected = pd.DataFrame(expected)\n",
    "expected.columns = [\"Bachelors\",\"High School\",\"Masters\",\"Ph.d.\"]\n",
    "expected.index = [\"Female\",\"Male\"]\n",
    "\n",
    "\n",
    "print('\\n--------------Expected frequncy -------------------\\n',expected)\n",
    "\n",
    "\n",
    "\n",
    "chi_squared_stat = (((observed-expected)**2)/expected).sum().sum()\n",
    "\n",
    "print('\\n--------------chi square score -------------------\\n',chi_squared_stat)\n",
    "\n",
    "\n",
    "crit = stats.chi2.ppf(q =1-α, df = 3) \n",
    "\n",
    "print(\"Critical value= \",crit)\n",
    "print(f'chi square score({chi_squared_stat}) > Critical value({crit}) , prooves null hypothesis is rejected and edujection level depends on gender ')\n",
    "\n"
   ]
  },
  {
   "cell_type": "markdown",
   "metadata": {},
   "source": [
    "Problem Statement 2: \n",
    "\n",
    "Using the following data, perform a oneway analysis of variance using α=.05. Write up the results in APA format.   [Group1: 51, 45, 33, 45, 67]  [Group2: 23, 43, 23, 43, 45]  [Group3: 56, 76, 74, 87, 56] "
   ]
  },
  {
   "cell_type": "code",
   "execution_count": 35,
   "metadata": {},
   "outputs": [
    {
     "name": "stdout",
     "output_type": "stream",
     "text": [
      "F Statistic value 9.747205503009463 , p-value 0.0030597541434430556\n",
      "True\n"
     ]
    }
   ],
   "source": [
    "# one way anova testing\n",
    "\n",
    "Group1 = [51, 45, 33, 45, 67]\n",
    "Group2 = [23, 43, 23, 43, 45]\n",
    "Group3 = [56, 76, 74, 87, 56]\n",
    "# Perform the ANOVA\n",
    "statistic, pvalue = stats.f_oneway(Group1,Group2,Group3)\n",
    "print(\"F Statistic value {} , p-value {}\".format(statistic,pvalue))\n",
    "if pvalue < 0.05:\n",
    "    print('True')\n",
    "else:\n",
    "    print('False')"
   ]
  },
  {
   "cell_type": "markdown",
   "metadata": {},
   "source": [
    "Problem  Statement  3:\n",
    "\n",
    "Calculate  F  Test  for  given 10,  20,  30,  40,  50  and  5,10,15,  20,  25. For  10,  20,  30,  40,  50:"
   ]
  },
  {
   "cell_type": "code",
   "execution_count": 36,
   "metadata": {},
   "outputs": [
    {
     "data": {
      "text/plain": [
       "F_onewayResult(statistic=3.6, pvalue=0.0943497728424377)"
      ]
     },
     "execution_count": 36,
     "metadata": {},
     "output_type": "execute_result"
    }
   ],
   "source": [
    "stats.f_oneway([10, 20, 30, 40, 50],[5,10,15, 20, 25])"
   ]
  }
 ],
 "metadata": {
  "kernelspec": {
   "display_name": "Python 3",
   "language": "python",
   "name": "python3"
  },
  "language_info": {
   "codemirror_mode": {
    "name": "ipython",
    "version": 3
   },
   "file_extension": ".py",
   "mimetype": "text/x-python",
   "name": "python",
   "nbconvert_exporter": "python",
   "pygments_lexer": "ipython3",
   "version": "3.8.3"
  }
 },
 "nbformat": 4,
 "nbformat_minor": 4
}
