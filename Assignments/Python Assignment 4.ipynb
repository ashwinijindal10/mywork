{
 "cells": [
  {
   "cell_type": "markdown",
   "metadata": {},
   "source": [
    "1.1 Write a Python Program(with class concepts) to find the area of the triangle using the below  formula. \n",
    "area = (s*(s-a)*(s-b)*(s-c)) ** 0.5 \n",
    "Function to take the length of the sides of triangle from user should be defined in the parent  class and function to calculate the area should be defined in subclass. \n",
    "\n"
   ]
  },
  {
   "cell_type": "code",
   "execution_count": 7,
   "metadata": {},
   "outputs": [
    {
     "name": "stdout",
     "output_type": "stream",
     "text": [
      "enter side 'a' length : 12\n",
      "enter side 'b' length : 12\n",
      "enter side 'c' length : 12\n",
      "area =  1944.0\n"
     ]
    }
   ],
   "source": [
    "class TriangleBase :\n",
    "        \n",
    "    def ask_side_length(self):     \n",
    "        self.a = float(input ('enter side \\'a\\' length : '))\n",
    "        self.b = float(input ('enter side \\'b\\' length : '))\n",
    "        self.c = float(input ('enter side \\'c\\' length : '))\n",
    "\n",
    "class Triangle(TriangleBase):\n",
    "    \n",
    "    def show_area(self):\n",
    "        s = float((self.a+self.b+self.b)*0.5)\n",
    "        area= (s*(s-self.a)*(s-self.b)*(s-self.c))*0.5\n",
    "        print('area = ' , area)\n",
    "        \n",
    "\n",
    "t= Triangle()\n",
    "t.ask_side_length()\n",
    "t.show_area()\n",
    "    \n",
    "        "
   ]
  },
  {
   "cell_type": "markdown",
   "metadata": {},
   "source": [
    "1.2 Write a function filter_long_words() that takes a list of words and an integer n and returns  the list of words that are longer than n. \n"
   ]
  },
  {
   "cell_type": "code",
   "execution_count": 12,
   "metadata": {},
   "outputs": [
    {
     "data": {
      "text/plain": [
       "['testeeeee']"
      ]
     },
     "execution_count": 12,
     "metadata": {},
     "output_type": "execute_result"
    }
   ],
   "source": [
    "def filter_long_words(list_of_words, n):\n",
    "    return [s for s in list_of_words if len(s)>n]\n",
    "    \n",
    "filter_long_words(['testrr','testeeeee'],6)"
   ]
  },
  {
   "cell_type": "markdown",
   "metadata": {},
   "source": [
    "2.1 Write a Python program using function concept that maps list of words into a list of integers  representing the lengths of the corresponding words. \n",
    "Hint: If a list [ ab,cde,erty] is passed on to the python function output should come as [2,3,4] Here 2,3 and 4 are the lengths of the words in the list. \n"
   ]
  },
  {
   "cell_type": "code",
   "execution_count": 17,
   "metadata": {},
   "outputs": [
    {
     "data": {
      "text/plain": [
       "[2, 3, 4]"
      ]
     },
     "execution_count": 17,
     "metadata": {},
     "output_type": "execute_result"
    }
   ],
   "source": [
    "def map_length(ar):\n",
    "    return list(map(lambda s : len(s),  ar))\n",
    "    \n",
    "map_length([ 'ab','cde','erty'] )"
   ]
  },
  {
   "cell_type": "markdown",
   "metadata": {},
   "source": [
    "2.2 Write a Python function which takes a character (i.e. a string of length 1) and returns True if  it is a vowel, False otherwise. "
   ]
  },
  {
   "cell_type": "code",
   "execution_count": 19,
   "metadata": {},
   "outputs": [
    {
     "data": {
      "text/plain": [
       "True"
      ]
     },
     "execution_count": 19,
     "metadata": {},
     "output_type": "execute_result"
    }
   ],
   "source": [
    "def is_vowel(c):\n",
    "    return c in ['a','e','i','o','u']\n",
    "\n",
    "is_vowel('a')"
   ]
  }
 ],
 "metadata": {
  "kernelspec": {
   "display_name": "Python 3",
   "language": "python",
   "name": "python3"
  },
  "language_info": {
   "codemirror_mode": {
    "name": "ipython",
    "version": 3
   },
   "file_extension": ".py",
   "mimetype": "text/x-python",
   "name": "python",
   "nbconvert_exporter": "python",
   "pygments_lexer": "ipython3",
   "version": "3.8.3"
  }
 },
 "nbformat": 4,
 "nbformat_minor": 4
}
