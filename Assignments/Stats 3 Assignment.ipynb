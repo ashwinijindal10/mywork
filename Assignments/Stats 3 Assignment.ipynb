{
 "cells": [
  {
   "cell_type": "code",
   "execution_count": 1,
   "metadata": {},
   "outputs": [],
   "source": [
    "import math\n",
    "import numpy as np\n",
    "\n",
    "def calculate_z(𝜇,𝜎,x,n):\n",
    "    return ((x-𝜇)*math.sqrt(n))/ 𝜎\n"
   ]
  },
  {
   "cell_type": "markdown",
   "metadata": {},
   "source": [
    "Problem  Statement  1:\n",
    "\n",
    "Blood  glucose  levels  for  obese  patients  have  a  mean  of  100  with  a  standard  deviation  of 15.  A  researcher  thinks  that  a  diet  high  in  raw  cornstarch  will  have  a  positive  effect  on blood  glucose  levels.  A  sample  of  36  patients  who  have  tried  the  raw  cornstarch  diet have  a  mean  glucose  level  of  108.  Test  the  hypothesis  that  the  raw  cornstarch  had  an effect  or  not. "
   ]
  },
  {
   "cell_type": "code",
   "execution_count": 11,
   "metadata": {},
   "outputs": [
    {
     "name": "stdout",
     "output_type": "stream",
     "text": [
      " z score =>p(3.2)=0.99931  > 0.95 which means we have evidence to reject null hypothesis\n"
     ]
    }
   ],
   "source": [
    "# H0=100 : H1 >100\n",
    "\n",
    "z= calculate_z(𝜇=100,𝜎=15,x=108,n=36)\n",
    "\n",
    "α=0.05 # if considerd significance level\n",
    "\n",
    "print(f' z score =>p({z})=0.99931  > {1-α} which means we have evidence to reject null hypothesis')"
   ]
  },
  {
   "cell_type": "markdown",
   "metadata": {},
   "source": [
    "Problem  Statement  2: \n",
    "\n",
    "In  one  state,  52%  of  the  voters  are  Republicans,  and  48%  are  Democrats.  In  a  second state,  47%  of  the  voters  are  Republicans,  and  53%  are  Democrats.  Suppose  a  simple random  sample  of  100  voters  are  surveyed  from  each  state. What  is  the  probability  that  the  survey  will  show  a  greater  percentage  of  Republican voters  in  the  second  state  than  in  the  first  state?"
   ]
  },
  {
   "cell_type": "code",
   "execution_count": 18,
   "metadata": {},
   "outputs": [
    {
     "name": "stdout",
     "output_type": "stream",
     "text": [
      "𝜇=0.050000000000000044 , 𝜎=0.07061869440877536\n",
      "z score of P(-0.7080278164104213)=0.24\n"
     ]
    }
   ],
   "source": [
    "P1= 0.52 \n",
    "Q1= .48\n",
    "P2= 0.47 \n",
    "Q2= .53\n",
    "n1=n2=100\n",
    "\n",
    "𝜇= P1-P2\n",
    "\n",
    "𝜎= math.sqrt((P1*Q1)/n1 + (P2*Q2)/n2)\n",
    "\n",
    "print(f'𝜇={𝜇} , 𝜎={𝜎}')\n",
    "x=0\n",
    "z= (x-𝜇 )/𝜎\n",
    "\n",
    "print(f'z score of P({z})=0.24')\n"
   ]
  },
  {
   "cell_type": "markdown",
   "metadata": {},
   "source": [
    "Problem  Statement  3:\n",
    "\n",
    "You  take  the  SAT  and  score  1100.  The  mean  score  for  the  SAT  is  1026  and  the  standard deviation  is  209.  How  well  did  you  score  on  the  test  compared  to  the  average  test  taker? "
   ]
  },
  {
   "cell_type": "code",
   "execution_count": 35,
   "metadata": {},
   "outputs": [
    {
     "name": "stdout",
     "output_type": "stream",
     "text": [
      "𝜇 +/- z*𝜎\n",
      "1026 +/- 74.0 = 952 to 1100\n",
      "the score 1100 is 0.35 times deviated from mean\n"
     ]
    }
   ],
   "source": [
    "𝜇=1026\n",
    "x=1100\n",
    "𝜎=209\n",
    "\n",
    "z_score = (x-𝜇) / 𝜎\n",
    "print('𝜇 +/- z*𝜎')\n",
    "print(f'{𝜇} +/- {round(z_score*𝜎,2)} = 952 to 1100')\n",
    "\n",
    "print(f'the score 1100 is {round(z_score,2)} times deviated from mean')"
   ]
  }
 ],
 "metadata": {
  "kernelspec": {
   "display_name": "Python 3",
   "language": "python",
   "name": "python3"
  },
  "language_info": {
   "codemirror_mode": {
    "name": "ipython",
    "version": 3
   },
   "file_extension": ".py",
   "mimetype": "text/x-python",
   "name": "python",
   "nbconvert_exporter": "python",
   "pygments_lexer": "ipython3",
   "version": "3.8.3"
  }
 },
 "nbformat": 4,
 "nbformat_minor": 4
}
